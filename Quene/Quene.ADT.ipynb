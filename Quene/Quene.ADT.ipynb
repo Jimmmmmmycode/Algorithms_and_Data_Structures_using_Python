{
 "cells": [
  {
   "cell_type": "markdown",
   "metadata": {
    "collapsed": true
   },
   "source": [
    "队列ADT的python实现\n",
    "Queue（）类：\n",
    "\n",
    "类属性：items，存放队列数据\n",
    "主要类方法：enqueue（item） 队尾入队\n",
    "      dequene（item)  队首出队"
   ]
  },
  {
   "cell_type": "code",
   "execution_count": 1,
   "metadata": {},
   "outputs": [],
   "source": [
    "from pythonds.basic.queue import Queue\n"
   ]
  },
  {
   "cell_type": "code",
   "execution_count": 6,
   "metadata": {},
   "outputs": [
    {
     "name": "stdout",
     "output_type": "stream",
     "text": [
      "['6', 9, 'a', 1]\n['6', 9, 'a']\n['6', 9]\nFalse\n"
     ]
    }
   ],
   "source": [
    "q=Queue()\n",
    "q.enqueue(1)\n",
    "q.enqueue('a')\n",
    "q.enqueue(9)\n",
    "q.enqueue('6')\n",
    "print(q.items)\n",
    "q.dequeue()\n",
    "print(q.items)\n",
    "q.dequeue()\n",
    "print(q.items)\n",
    "q.dequeue()\n",
    "print(q.isEmpty())"
   ]
  },
  {
   "cell_type": "code",
   "execution_count": 4,
   "metadata": {},
   "outputs": [],
   "source": []
  },
  {
   "cell_type": "code",
   "execution_count": null,
   "metadata": {},
   "outputs": [],
   "source": []
  }
 ],
 "metadata": {
  "kernelspec": {
   "display_name": "Python 2",
   "language": "python",
   "name": "python2"
  },
  "language_info": {
   "codemirror_mode": {
    "name": "ipython",
    "version": 2
   },
   "file_extension": ".py",
   "mimetype": "text/x-python",
   "name": "python",
   "nbconvert_exporter": "python",
   "pygments_lexer": "ipython2",
   "version": "2.7.6"
  }
 },
 "nbformat": 4,
 "nbformat_minor": 0
}

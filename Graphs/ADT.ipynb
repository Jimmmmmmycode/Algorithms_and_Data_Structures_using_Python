{
 "cells": [
  {
   "cell_type": "markdown",
   "metadata": {},
   "source": [
    "利用python实现图的数据结构\n",
    "Graph类：\n",
    "对象属性： vertices{} -- 以key-Vertex实例的形式记录图中的结点 \n",
    "         numvertices -- 记录结点数量\n",
    "\n",
    "Vertex类：\n",
    "对象属性：id--结点的关键字key\n",
    "\tconnectedTo{}--以Vertex实例-weight的形式记录结点连接的其他结点"
   ]
  },
  {
   "cell_type": "code",
   "execution_count": 6,
   "metadata": {
    "collapsed": true
   },
   "outputs": [],
   "source": [
    "from pythonds.graphs.adjGraph import Graph\n",
    "from pythonds.graphs.adjGraph import Vertex"
   ]
  },
  {
   "cell_type": "code",
   "execution_count": 7,
   "metadata": {},
   "outputs": [
    {
     "name": "stdout",
     "output_type": "stream",
     "text": [
      "[0, 1, 2, 3, 4, 5]\n"
     ]
    }
   ],
   "source": [
    "#往图中添加结点\n",
    "g=Graph()\n",
    "for i in range(6):\n",
    "    g.addVertex(i)\n",
    "print(g.getVertices())\n"
   ]
  },
  {
   "cell_type": "code",
   "execution_count": 8,
   "metadata": {},
   "outputs": [
    {
     "name": "stdout",
     "output_type": "stream",
     "text": [
      "(0, 5, 2)\n(0, 1, 5)\n(1, 2, 4)\n(2, 3, 9)\n(3, 4, 7)\n(3, 5, 3)\n(4, 0, 1)\n(5, 4, 8)\n(5, 2, 1)\n"
     ]
    }
   ],
   "source": [
    "#往图中添加边\n",
    "g.addEdge(0,5,2)  #V0--V5,weight=2\n",
    "g.addEdge(0,1,5)\n",
    "g.addEdge(1,2,4)\n",
    "g.addEdge(2,3,9)\n",
    "g.addEdge(3,4,7)\n",
    "g.addEdge(3,5,3)\n",
    "g.addEdge(4,0,1)\n",
    "g.addEdge(5,4,8)\n",
    "g.addEdge(5,2,1)\n",
    "edges=[]\n",
    "for v in g:\n",
    "    for w in v.getConnections():\n",
    "        print((v.getId(),w.getId(),\n",
    "              v.connectedTo[w]))"
   ]
  },
  {
   "cell_type": "code",
   "execution_count": 9,
   "metadata": {},
   "outputs": [],
   "source": []
  },
  {
   "cell_type": "code",
   "execution_count": null,
   "metadata": {},
   "outputs": [],
   "source": []
  }
 ],
 "metadata": {
  "kernelspec": {
   "display_name": "Python 2",
   "language": "python",
   "name": "python2"
  },
  "language_info": {
   "codemirror_mode": {
    "name": "ipython",
    "version": 2
   },
   "file_extension": ".py",
   "mimetype": "text/x-python",
   "name": "python",
   "nbconvert_exporter": "python",
   "pygments_lexer": "ipython2",
   "version": "2.7.6"
  }
 },
 "nbformat": 4,
 "nbformat_minor": 0
}

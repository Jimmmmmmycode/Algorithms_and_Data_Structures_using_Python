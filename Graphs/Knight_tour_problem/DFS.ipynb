{
 "cells": [
  {
   "cell_type": "code",
   "execution_count": 50,
   "metadata": {
    "collapsed": true
   },
   "outputs": [],
   "source": [
    "from pythonds.graphs.adjGraph import Graph,Vertex\n",
    "\n"
   ]
  },
  {
   "cell_type": "code",
   "execution_count": 51,
   "metadata": {},
   "outputs": [],
   "source": [
    "g=Graph()\n",
    "for i in range(6):\n",
    "    g.addVertex(i+1)\n",
    "g.addEdge(1,2)\n",
    "g.addEdge(1,4)\n",
    "g.addEdge(2,3)\n",
    "g.addEdge(2,4)\n",
    "g.addEdge(4,5)\n",
    "g.addEdge(5,2)\n",
    "g.addEdge(5,6)\n",
    "g.addEdge(6,3)\n"
   ]
  },
  {
   "cell_type": "code",
   "execution_count": 52,
   "metadata": {},
   "outputs": [],
   "source": [
    "def DFS1(n,path,cv,limit):\n",
    "    cv.setColor('gray') \n",
    "    path.append(cv)\n",
    "    if n < limit:\n",
    "        nbrlist = list(cv.getConnections()) #获取该节点的邻居\n",
    "        i=0  #按顺序访问nbrlist[]\n",
    "        done = False \n",
    "        while i < len(nbrlist) and not done: \n",
    "            if(nbrlist[i].getColor()=='white'):\n",
    "                done=DFS1(n+1,path,nbrlist[i],limit) \n",
    "            i=i+1\n",
    "        if not done: \n",
    "            path.pop()\n",
    "            cv.setColor('white')\n",
    "                \n",
    "                \n",
    "    else:\n",
    "        done=True\n",
    "    \n",
    "    return done   "
   ]
  },
  {
   "cell_type": "code",
   "execution_count": 53,
   "metadata": {},
   "outputs": [
    {
     "name": "stdout",
     "output_type": "stream",
     "text": [
      "True\n1\n2\n4\n5\n6\n3\n"
     ]
    }
   ],
   "source": [
    "p=[]\n",
    "v=g.getVertex(1)\n",
    "print(DFS1(0,p,v,5))\n",
    "for k in p:\n",
    "    print(k.id)\n",
    "    "
   ]
  }
 ],
 "metadata": {
  "kernelspec": {
   "display_name": "Python 2",
   "language": "python",
   "name": "python2"
  },
  "language_info": {
   "codemirror_mode": {
    "name": "ipython",
    "version": 2
   },
   "file_extension": ".py",
   "mimetype": "text/x-python",
   "name": "python",
   "nbconvert_exporter": "python",
   "pygments_lexer": "ipython2",
   "version": "2.7.6"
  }
 },
 "nbformat": 4,
 "nbformat_minor": 0
}
